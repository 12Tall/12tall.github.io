{
 "cells": [
  {
   "cell_type": "code",
   "execution_count": 1,
   "metadata": {},
   "outputs": [
    {
     "name": "stdout",
     "output_type": "stream",
     "text": [
      "Hello, my name is Alice. I live at 123 Main St in New York.\n"
     ]
    }
   ],
   "source": [
    "import pickle\n",
    "\n",
    "class Address:\n",
    "    def __init__(self, street, city, zip_code):\n",
    "        self.street = street\n",
    "        self.city = city\n",
    "        self.zip_code = zip_code\n",
    "\n",
    "class Person:\n",
    "    def __init__(self, name, age, address):\n",
    "        self.name = name\n",
    "        self.age = age\n",
    "        self.address = address\n",
    "\n",
    "    def say_hello(self):\n",
    "        print(f\"Hello, my name is {self.name}. I live at {self.address.street} in {self.address.city}.\")\n",
    "\n",
    "address = Address(\"123 Main St\", \"New York\", \"10001\")\n",
    "person = Person(\"Alice\", 25, address)\n",
    "\n",
    "# 定义一个函数，用于将Person对象保存到文件中\n",
    "def save_person(person_obj, file_path):\n",
    "    with open(file_path, \"wb\") as f:\n",
    "        pickle.dump(person_obj, f)\n",
    "\n",
    "# 定义一个函数，用于从文件中读取Person对象\n",
    "def load_person(file_path):\n",
    "    with open(file_path, \"rb\") as f:\n",
    "        person_obj = pickle.load(f)\n",
    "    return person_obj\n",
    "\n",
    "# 保存Person对象到文件中\n",
    "save_person(person, \"person.pkl\")\n",
    "\n",
    "# 从文件中加载Person对象，并调用其方法\n",
    "person_obj = load_person(\"person.pkl\")\n",
    "person_obj.say_hello()   # 输出：Hello, my name is Alice. I live at 123 Main St in New York."
   ]
  }
 ],
 "metadata": {
  "kernelspec": {
   "display_name": "Python 3",
   "language": "python",
   "name": "python3"
  },
  "language_info": {
   "codemirror_mode": {
    "name": "ipython",
    "version": 3
   },
   "file_extension": ".py",
   "mimetype": "text/x-python",
   "name": "python",
   "nbconvert_exporter": "python",
   "pygments_lexer": "ipython3",
   "version": "3.11.3"
  },
  "orig_nbformat": 4
 },
 "nbformat": 4,
 "nbformat_minor": 2
}
