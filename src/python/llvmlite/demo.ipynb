{
 "cells": [
  {
   "attachments": {},
   "cell_type": "markdown",
   "metadata": {},
   "source": [
    "## 示例代码  \n",
    "输出`hello world!`。  "
   ]
  },
  {
   "cell_type": "code",
   "execution_count": 20,
   "metadata": {},
   "outputs": [
    {
     "data": {
      "text/plain": [
       "<ir.Ret '.6' of type 'void', opname 'ret', operands [<ir.Constant type='i32' value=0>]>"
      ]
     },
     "execution_count": 20,
     "metadata": {},
     "output_type": "execute_result"
    }
   ],
   "source": [
    "from llvmlite import ir  \n",
    "\n",
    "# 创建模块，模块名可以为空  \n",
    "module = ir.Module(name=\"main\")  \n",
    "\n",
    "# 创建int32 类型  \n",
    "i32 = ir.IntType(32)  \n",
    "# 创建int8 * 指针类型  \n",
    "voidptr_ty = ir.IntType(8).as_pointer()  \n",
    "\n",
    "\n",
    "# 创建函数类型 int func(void * ...)，支持可变长参数  \n",
    "printf_ty = ir.FunctionType(ir.IntType(32), [voidptr_ty], var_arg=True)  \n",
    "# 声明int printf(void * ...)\n",
    "printf = ir.Function(module, printf_ty, name=\"printf\")\n",
    "\n",
    "# If you need to be compatible with emoji, Chinese and other utf8 characters, you need to modify fmt.\n",
    "# fmt = bytearray(\"🦒, %s! %i times!\\n\\0\".encode('utf-8'))\n",
    "# # c_fmt = ir.Constant(ir.ArrayType(ir.IntType(8), len(fmt)), fmt)\n",
    "# fmt = \"hello %s!\\n\\0\"\n",
    "# c_fmt = ir.Constant(ir.ArrayType(ir.IntType(8), len(fmt)), bytearray(fmt.encode(\"utf8\")))\n",
    "fmt = bytearray(\"🦒 hello %s! \\n\\0\".encode('utf-8'))\n",
    "c_fmt = ir.Constant(ir.ArrayType(ir.IntType(8), len(fmt)),fmt)\n",
    "global_fmt = ir.GlobalVariable(module, c_fmt.type, name=\"fstr\")\n",
    "global_fmt.linkage = 'internal'\n",
    "global_fmt.global_constant = True\n",
    "global_fmt.initializer = c_fmt\n",
    "\n",
    "\n",
    "# 创建函数类型int func()，无参数  \n",
    "fn_ty = ir.FunctionType(i32,())  \n",
    "# 创建int main() 函数\n",
    "func = ir.Function(module, fn_ty, name='main')  \n",
    "# 添加函数体block    \n",
    "block = func.append_basic_block(name=\"entry\")  \n",
    "# 构建函数体\n",
    "builder = ir.IRBuilder(block)    \n",
    "\n",
    "\n",
    "arg = \"world\\0\"  \n",
    "c_arg = ir.Constant(ir.ArrayType(ir.IntType(8), len(arg)), bytearray(arg.encode(\"utf8\")))\n",
    "c_str = builder.alloca(c_arg.type)\n",
    "builder.store(c_arg, c_str)\n",
    "\n",
    "# 指针类型转换\n",
    "fmt_arg = builder.bitcast(global_fmt, voidptr_ty)\n",
    "builder.call(printf, [fmt_arg, c_str])\n",
    "\n",
    "# 创建返回值\n",
    "res = i32(0)  \n",
    "# 添加返回值\n",
    "builder.ret(res)  \n",
    "\n",
    "    "
   ]
  },
  {
   "attachments": {},
   "cell_type": "markdown",
   "metadata": {},
   "source": [
    "## 保存IR   "
   ]
  },
  {
   "cell_type": "code",
   "execution_count": 21,
   "metadata": {},
   "outputs": [],
   "source": [
    "\n",
    "with open('./a.out.ll', 'w') as f:\n",
    "    f.write(str(module))"
   ]
  },
  {
   "attachments": {},
   "cell_type": "markdown",
   "metadata": {},
   "source": [
    "## 编译   \n",
    "因为llvmlite 暂时还没有集成`lld` 工具，所以只能通过系统命令将生成的`.ll` 源码或者`.obj` 文件编译成可执行程序。看Github 上的[PR 898](https://github.com/numba/llvmlite/pull/898) 应该在`v4.0` 正式版就将集成`lld` 工具。  "
   ]
  },
  {
   "cell_type": "code",
   "execution_count": 22,
   "metadata": {},
   "outputs": [
    {
     "name": "stdout",
     "output_type": "stream",
     "text": [
      "b''\n"
     ]
    }
   ],
   "source": [
    "import subprocess\n",
    "\n",
    "p = subprocess.Popen(\"clang ./a.out.ll\", shell=True, stdout=subprocess.PIPE)\n",
    "r = p.stdout.read()\n",
    "print(r)"
   ]
  },
  {
   "attachments": {},
   "cell_type": "markdown",
   "metadata": {},
   "source": [
    "## 测试  \n",
    "有以下三个命令来查看程序退出时的代码，`ipynb` 默认用的是`cmd`。  \n",
    "- `*nix`：`echo $?`  \n",
    "- `powershell`：`echo $LASTEXITCODE`  \n",
    "- `cmd`：`echo %errorlevel%`"
   ]
  },
  {
   "cell_type": "code",
   "execution_count": 23,
   "metadata": {},
   "outputs": [
    {
     "name": "stdout",
     "output_type": "stream",
     "text": [
      "🦒 hello world! \n",
      "0\n"
     ]
    }
   ],
   "source": [
    "!a.exe\n",
    "!echo %errorlevel%"
   ]
  }
 ],
 "metadata": {
  "kernelspec": {
   "display_name": "Python 3",
   "language": "python",
   "name": "python3"
  },
  "language_info": {
   "codemirror_mode": {
    "name": "ipython",
    "version": 3
   },
   "file_extension": ".py",
   "mimetype": "text/x-python",
   "name": "python",
   "nbconvert_exporter": "python",
   "pygments_lexer": "ipython3",
   "version": "3.8.10"
  },
  "orig_nbformat": 4
 },
 "nbformat": 4,
 "nbformat_minor": 2
}
