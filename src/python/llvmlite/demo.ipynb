{
 "cells": [
  {
   "attachments": {},
   "cell_type": "markdown",
   "metadata": {},
   "source": [
    "## 示例代码  \n",
    "输出`hello world!`。  "
   ]
  },
  {
   "cell_type": "code",
   "execution_count": 37,
   "metadata": {},
   "outputs": [
    {
     "data": {
      "text/plain": [
       "<ir.Ret '.6' of type 'void', opname 'ret', operands [<ir.Constant type='i32' value=0>]>"
      ]
     },
     "execution_count": 37,
     "metadata": {},
     "output_type": "execute_result"
    }
   ],
   "source": [
    "from llvmlite import ir  \n",
    "\n",
    "# 创建模块，模块名可以为空  \n",
    "module = ir.Module(name=\"main\")  \n",
    "\n",
    "# 创建int32 类型  \n",
    "i32 = ir.IntType(32)  \n",
    "# 创建int8 * 指针类型  \n",
    "voidptr_ty = ir.IntType(8).as_pointer()  \n",
    "\n",
    "\n",
    "# 创建函数类型 int func(void * ...)，支持可变长参数  \n",
    "printf_ty = ir.FunctionType(ir.IntType(32), [voidptr_ty], var_arg=True)  \n",
    "# 声明int printf(void * ...)\n",
    "printf = ir.Function(module, printf_ty, name=\"printf\")\n",
    "\n",
    "# If you need to be compatible with emoji, Chinese and other utf8 characters, you need to modify fmt.\n",
    "# fmt = bytearray(\"🦒, %s! %i times!\\n\\0\".encode('utf-8'))\n",
    "# # c_fmt = ir.Constant(ir.ArrayType(ir.IntType(8), len(fmt)), fmt)\n",
    "# fmt = \"hello %s!\\n\\0\"\n",
    "# c_fmt = ir.Constant(ir.ArrayType(ir.IntType(8), len(fmt)), bytearray(fmt.encode(\"utf8\")))\n",
    "fmt = bytearray(\"🦒 hello %s! \\n\\0\".encode('utf-8'))\n",
    "c_fmt = ir.Constant(ir.ArrayType(ir.IntType(8), len(fmt)),fmt)\n",
    "global_fmt = ir.GlobalVariable(module, c_fmt.type, name=\"fstr\")\n",
    "global_fmt.linkage = 'internal'\n",
    "global_fmt.global_constant = True\n",
    "global_fmt.initializer = c_fmt\n",
    "\n",
    "\n",
    "# 创建函数类型int func()，无参数  \n",
    "fn_ty = ir.FunctionType(i32,())  \n",
    "# 创建int main() 函数\n",
    "func = ir.Function(module, fn_ty, name='main')  \n",
    "# 添加函数体block    \n",
    "block = func.append_basic_block(name=\"entry\")  \n",
    "# 构建函数体\n",
    "builder = ir.IRBuilder(block)    \n",
    "\n",
    "\n",
    "arg = \"world\\0\"  \n",
    "c_arg = ir.Constant(ir.ArrayType(ir.IntType(8), len(arg)), bytearray(arg.encode(\"utf8\")))\n",
    "c_str = builder.alloca(c_arg.type)\n",
    "builder.store(c_arg, c_str)\n",
    "\n",
    "# 指针类型转换\n",
    "fmt_arg = builder.bitcast(global_fmt, voidptr_ty)\n",
    "builder.call(printf, [fmt_arg, c_str])\n",
    "\n",
    "# 创建返回值\n",
    "res = i32(0)  \n",
    "# 添加返回值\n",
    "builder.ret(res)  \n",
    "\n",
    "    "
   ]
  },
  {
   "attachments": {},
   "cell_type": "markdown",
   "metadata": {},
   "source": [
    "## 保存IR   "
   ]
  },
  {
   "cell_type": "code",
   "execution_count": 38,
   "metadata": {},
   "outputs": [],
   "source": [
    "\n",
    "with open('./a.out.ll', 'w') as f:\n",
    "    f.write(str(module))"
   ]
  },
  {
   "attachments": {},
   "cell_type": "markdown",
   "metadata": {},
   "source": [
    "## 编译   \n",
    "因为llvmlite 暂时还没有集成`lld` 工具，所以只能通过系统命令将生成的`.ll` 源码或者`.obj` 文件编译成可执行程序。看Github 上的[PR 898](https://github.com/numba/llvmlite/pull/898) 应该在`v4.0` 正式版就将集成`lld` 工具。  "
   ]
  },
  {
   "cell_type": "code",
   "execution_count": 39,
   "metadata": {},
   "outputs": [
    {
     "name": "stdout",
     "output_type": "stream",
     "text": [
      "b''\n"
     ]
    }
   ],
   "source": [
    "import subprocess\n",
    "\n",
    "p = subprocess.Popen(\"clang ./a.out.ll\", shell=True, stdout=subprocess.PIPE)\n",
    "r = p.stdout.read()\n",
    "print(r)"
   ]
  },
  {
   "attachments": {},
   "cell_type": "markdown",
   "metadata": {},
   "source": [
    "## 测试  \n",
    "有以下三个命令来查看程序退出时的代码，`ipynb` 默认用的是`cmd`。  \n",
    "- `*nix`：`echo $?`  \n",
    "- `powershell`：`echo $LASTEXITCODE`  \n",
    "- `cmd`：`echo %errorlevel%`"
   ]
  },
  {
   "cell_type": "code",
   "execution_count": 40,
   "metadata": {},
   "outputs": [
    {
     "name": "stdout",
     "output_type": "stream",
     "text": [
      "🦒 hello world! \n",
      "0\n"
     ]
    }
   ],
   "source": [
    "!a.exe\n",
    "!echo %errorlevel%"
   ]
  },
  {
   "attachments": {},
   "cell_type": "markdown",
   "metadata": {},
   "source": [
    "## Clang 编译C 到 IR"
   ]
  },
  {
   "cell_type": "code",
   "execution_count": 41,
   "metadata": {},
   "outputs": [],
   "source": [
    "!clang -emit-llvm -Wimplicit-function-declaration -S -c main.c -o main.ll"
   ]
  },
  {
   "attachments": {},
   "cell_type": "markdown",
   "metadata": {},
   "source": [
    "## 打印  "
   ]
  },
  {
   "cell_type": "code",
   "execution_count": 44,
   "metadata": {},
   "outputs": [
    {
     "data": {
      "image/svg+xml": [
       "<svg xmlns=\"http://www.w3.org/2000/svg\" xmlns:xlink=\"http://www.w3.org/1999/xlink\" width=\"332pt\" height=\"130pt\" viewBox=\"0.00 0.00 332.00 130.00\">\n",
       "<g id=\"graph0\" class=\"graph\" transform=\"scale(1 1) rotate(0) translate(4 126)\">\n",
       "<title>CFG for 'main' function</title>\n",
       "<polygon fill=\"white\" stroke=\"none\" points=\"-4,4 -4,-126 328,-126 328,4 -4,4\"/>\n",
       "<text text-anchor=\"middle\" x=\"162\" y=\"-7.8\" font-family=\"Times New Roman,serif\" font-size=\"14.00\">CFG for 'main' function</text>\n",
       "<!-- Node0x2204e3449e0 -->\n",
       "<g id=\"node1\" class=\"node\">\n",
       "<title>Node0x2204e3449e0</title>\n",
       "<polygon fill=\"none\" stroke=\"black\" points=\"0,-23.5 0,-121.5 324,-121.5 324,-23.5 0,-23.5\"/>\n",
       "<text text-anchor=\"start\" x=\"8\" y=\"-106.3\" font-family=\"Times New Roman,serif\" font-size=\"14.00\">entry:</text>\n",
       "<text text-anchor=\"start\" x=\"8\" y=\"-91.3\" font-family=\"Times New Roman,serif\" font-size=\"14.00\"> %.2 = alloca [6 x i8], align 1</text>\n",
       "<text text-anchor=\"start\" x=\"8\" y=\"-76.3\" font-family=\"Times New Roman,serif\" font-size=\"14.00\"> store [6 x i8] c&quot;world\\00&quot;, [6 x i8]* %.2, align 1</text>\n",
       "<text text-anchor=\"start\" x=\"8\" y=\"-61.3\" font-family=\"Times New Roman,serif\" font-size=\"14.00\"> %.4 = bitcast [17 x i8]* @fstr to i8*</text>\n",
       "<text text-anchor=\"start\" x=\"8\" y=\"-46.3\" font-family=\"Times New Roman,serif\" font-size=\"14.00\"> %.5 = call i32 (i8*, ...) @printf(i8* %.4, [6 x i8]* %.2)</text>\n",
       "<text text-anchor=\"start\" x=\"8\" y=\"-31.3\" font-family=\"Times New Roman,serif\" font-size=\"14.00\"> ret i32 0</text>\n",
       "</g>\n",
       "</g>\n",
       "</svg>"
      ],
      "text/plain": [
       "<IPython.core.display.SVG object>"
      ]
     },
     "execution_count": 44,
     "metadata": {},
     "output_type": "execute_result"
    }
   ],
   "source": [
    "from llvmlite import binding  \n",
    "dot = binding.get_function_cfg(func)  \n",
    "binding.view_dot_graph(dot)"
   ]
  }
 ],
 "metadata": {
  "kernelspec": {
   "display_name": "Python 3",
   "language": "python",
   "name": "python3"
  },
  "language_info": {
   "codemirror_mode": {
    "name": "ipython",
    "version": 3
   },
   "file_extension": ".py",
   "mimetype": "text/x-python",
   "name": "python",
   "nbconvert_exporter": "python",
   "pygments_lexer": "ipython3",
   "version": "3.8.10"
  },
  "orig_nbformat": 4
 },
 "nbformat": 4,
 "nbformat_minor": 2
}
